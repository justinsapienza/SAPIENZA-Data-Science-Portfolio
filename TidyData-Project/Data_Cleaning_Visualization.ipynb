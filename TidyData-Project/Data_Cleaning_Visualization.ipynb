{
 "cells": [
  {
   "cell_type": "code",
   "execution_count": null,
   "metadata": {},
   "outputs": [
    {
     "data": {
      "text/plain": [
       "       medalist_name  ... male_greco-roman wrestling\n",
       "0    Aaron Armstrong  ...                        NaN\n",
       "1      Aaron Peirsol  ...                        NaN\n",
       "2   Abdullo Tangriev  ...                        NaN\n",
       "3  Abeer Abdelrahman  ...                        NaN\n",
       "4            Abhinav  ...                        NaN\n",
       "\n",
       "[5 rows x 71 columns]\n"
      ]
     },
     "metadata": {},
     "output_type": "display_data"
    }
   ],
   "source": [
    "import pandas as pd\n",
    "\n",
    "# Load the CSV file\n",
    "df = pd.read_csv(\"TidyData-Project/data/olympics_08_medalists.csv\") # Use the relative path of the CSV\n",
    "\n",
    "#Preview dataset\n",
    "print(df.head())"
   ]
  },
  {
   "cell_type": "markdown",
   "metadata": {},
   "source": [
    "First, import the pandas library in Python and assign it the alias pd. In this step, I am loading a CSV file containing the Olympic medalist data from 2008 and previewing the first five rows of the dataset. The pd.read_csv() function reads the CSV file into a pandas DataFrame, which results in a DataFrame where the columns represent variables and the rows represent observations. The df.head() function outputs the first five rows of the DataFrame to provide a preivew of the structure and content of the data, which is necessary for understanding the initial organization of the data."
   ]
  },
  {
   "cell_type": "code",
   "execution_count": null,
   "metadata": {},
   "outputs": [
    {
     "data": {
      "text/plain": [
       "          medalist_name  ... male_greco-roman wrestling\n",
       "count              1875  ...                         27\n",
       "unique             1875  ...                          3\n",
       "top     Aaron Armstrong  ...                     bronze\n",
       "freq                  1  ...                         13\n",
       "\n",
       "[4 rows x 71 columns]\n"
      ]
     },
     "metadata": {},
     "output_type": "display_data"
    }
   ],
   "source": [
    "# Basic descriptive and statistics for each column\n",
    "df.describe()"
   ]
  },
  {
   "cell_type": "markdown",
   "metadata": {},
   "source": [
    "The df.describe() function in pandas generates a summary of descriptive statistics for numeric columns in the dataset. This function enables a quick overview of the data's distributions to help identify any potential issues or patterns. According to _Tidy Data_ by Hadley Wickham, tody data facilitates analysis. Running the df.describe() function aligns with the principle of exploring and summarizing tidy datasets as it illustrates that the data is untidy. Thus, the data must be tidied before it can be explored and summarized."
   ]
  },
  {
   "cell_type": "code",
   "execution_count": null,
   "metadata": {},
   "outputs": [
    {
     "data": {
      "text/plain": [
       "<class 'pandas.core.frame.DataFrame'>\n",
       "RangeIndex: 1875 entries, 0 to 1874\n",
       "Data columns (total 71 columns):\n",
       " #   Column                        Non-Null Count  Dtype \n",
       "---  ------                        --------------  ----- \n",
       " 0   medalist_name                 1875 non-null   object\n",
       " 1   male_archery                  11 non-null     object\n",
       " 2   female_archery                9 non-null      object\n",
       " 3   male_athletics                85 non-null     object\n",
       " 4   female_athletics              81 non-null     object\n",
       " 5   male_badminton                12 non-null     object\n",
       " 6   female_badminton              10 non-null     object\n",
       " 7   male_baseball                 72 non-null     object\n",
       " 8   male_basketball               35 non-null     object\n",
       " 9   female_basketball             36 non-null     object\n",
       " 10  male_boxing                   44 non-null     object\n",
       " 11  male_canoeing and kayaking    53 non-null     object\n",
       " 12  female_canoeing and kayaking  21 non-null     object\n",
       " 13  male_road bicycle racing      5 non-null      object\n",
       " 14  female_road bicycle racing    6 non-null      object\n",
       " 15  male_track cycling            35 non-null     object\n",
       " 16  female_track cycling          9 non-null      object\n",
       " 17  male_mountain biking          3 non-null      object\n",
       " 18  female_mountain biking        3 non-null      object\n",
       " 19  male_bmx                      3 non-null      object\n",
       " 20  female_bmx                    3 non-null      object\n",
       " 21  male_diving                   16 non-null     object\n",
       " 22  female_diving                 13 non-null     object\n",
       " 23  female_equestrian sport       20 non-null     object\n",
       " 24  male_equestrian sport         18 non-null     object\n",
       " 25  male_fencing                  28 non-null     object\n",
       " 26  female_fencing                26 non-null     object\n",
       " 27  male_field hockey             50 non-null     object\n",
       " 28  female_field hockey           48 non-null     object\n",
       " 29  male_association football     55 non-null     object\n",
       " 30  female_association football   54 non-null     object\n",
       " 31  male_artistic gymnastics      29 non-null     object\n",
       " 32  female_artistic gymnastics    20 non-null     object\n",
       " 33  female_rhythmic gymnastics    21 non-null     object\n",
       " 34  male_trampoline gymnastics    3 non-null      object\n",
       " 35  female_trampoline gymnastics  3 non-null      object\n",
       " 36  male_handball                 43 non-null     object\n",
       " 37  female_handball               42 non-null     object\n",
       " 38  male_judo                     28 non-null     object\n",
       " 39  female_judo                   28 non-null     object\n",
       " 40  male_modern pentathlon        3 non-null      object\n",
       " 41  female_modern pentathlon      2 non-null      object\n",
       " 42  male_rowing                   83 non-null     object\n",
       " 43  female_rowing                 58 non-null     object\n",
       " 44  male_sailing                  33 non-null     object\n",
       " 45  female_sailing                21 non-null     object\n",
       " 46  male_shooting sport           26 non-null     object\n",
       " 47  female_shooting sport         17 non-null     object\n",
       " 48  female_softball               45 non-null     object\n",
       " 49  male_swimming                 62 non-null     object\n",
       " 50  female_swimming               63 non-null     object\n",
       " 51  female_synchronized swimming  29 non-null     object\n",
       " 52  male_table tennis             9 non-null      object\n",
       " 53  female_table tennis           9 non-null      object\n",
       " 54  male_taekwondo                16 non-null     object\n",
       " 55  female_taekwondo              16 non-null     object\n",
       " 56  male_tennis                   9 non-null      object\n",
       " 57  female_tennis                 9 non-null      object\n",
       " 58  male_triathlon                3 non-null      object\n",
       " 59  female_triathlon              3 non-null      object\n",
       " 60  male_beach volleyball         6 non-null      object\n",
       " 61  female_beach volleyball       6 non-null      object\n",
       " 62  male_volleyball               36 non-null     object\n",
       " 63  female_volleyball             36 non-null     object\n",
       " 64  male_water polo               39 non-null     object\n",
       " 65  female_water polo             39 non-null     object\n",
       " 66  male_weightlifting            24 non-null     object\n",
       " 67  female_weightlifting          21 non-null     object\n",
       " 68  male_freestyle wrestling      28 non-null     object\n",
       " 69  female_freestyle wrestling    16 non-null     object\n",
       " 70  male_greco-roman wrestling    27 non-null     object\n",
       "dtypes: object(71)\n",
       "memory usage: 1.0+ MB\n"
      ]
     },
     "metadata": {},
     "output_type": "display_data"
    }
   ],
   "source": [
    "# Concise summary of the data\n",
    "df.info()"
   ]
  },
  {
   "cell_type": "markdown",
   "metadata": {},
   "source": [
    "The df.info function in pandas provides a concise summary of the DataFrame by displaying the total number of rows and columns. Hadley Wickham outlines three principles of a tidy dataset:\n",
    "    1. Each variable forms a column.\n",
    "    2. Each observation forms a rown.\n",
    "    3. Each type of observational unit forms a table.\n",
    "Running df.info inspects whether the data aligns with tody principles, while also identifying missing values or inappropriate data types, which may require cleaning. In this case, the data is untidy as the princples of tidy data are not shown in this DataFrame. Thus, we must tidy the data."
   ]
  },
  {
   "cell_type": "code",
   "execution_count": null,
   "metadata": {},
   "outputs": [
    {
     "data": {
      "text/plain": [
       "['medalist_name', 'male_archery', 'female_archery', 'male_athletics', 'female_athletics', 'male_badminton', 'female_badminton', 'male_baseball', 'male_basketball', 'female_basketball', 'male_boxing', 'male_canoeing and kayaking', 'female_canoeing and kayaking', 'male_road bicycle racing', 'female_road bicycle racing', 'male_track cycling', 'female_track cycling', 'male_mountain biking', 'female_mountain biking', 'male_bmx', 'female_bmx', 'male_diving', 'female_diving', 'female_equestrian sport', 'male_equestrian sport', 'male_fencing', 'female_fencing', 'male_field hockey', 'female_field hockey', 'male_association football', 'female_association football', 'male_artistic gymnastics', 'female_artistic gymnastics', 'female_rhythmic gymnastics', 'male_trampoline gymnastics', 'female_trampoline gymnastics', 'male_handball', 'female_handball', 'male_judo', 'female_judo', 'male_modern pentathlon', 'female_modern pentathlon', 'male_rowing', 'female_rowing', 'male_sailing', 'female_sailing', 'male_shooting sport', 'female_shooting sport', 'female_softball', 'male_swimming', 'female_swimming', 'female_synchronized swimming', 'male_table tennis', 'female_table tennis', 'male_taekwondo', 'female_taekwondo', 'male_tennis', 'female_tennis', 'male_triathlon', 'female_triathlon', 'male_beach volleyball', 'female_beach volleyball', 'male_volleyball', 'female_volleyball', 'male_water polo', 'female_water polo', 'male_weightlifting', 'female_weightlifting', 'male_freestyle wrestling', 'female_freestyle wrestling', 'male_greco-roman wrestling']\n"
      ]
     },
     "metadata": {},
     "output_type": "display_data"
    }
   ],
   "source": [
    "# Make the columns into a list\n",
    "list(df.columns)"
   ]
  },
  {
   "cell_type": "markdown",
   "metadata": {},
   "source": [
    "The list(df.columns) function retrieves all column headers from the DataFrame and converts them into a list to allow us to see all the variable names. Once we have the list of column names, we are able to identify which variables are present and use the list for more efficient data tidying. We know from the df.describe() function that there are over 70 variables that would take a long time to type into our code. Thus, by formatting them as a list, we organize the variables and make them more suitable for data tidying. The function ensures that all variables have been correctly structured as columns, aligning with the _Tidy Data_ framework."
   ]
  },
  {
   "cell_type": "code",
   "execution_count": null,
   "metadata": {},
   "outputs": [
    {
     "data": {
      "text/plain": [
       "      medalist_name  event_gender   medal\n",
       "177    Bair Badënov  male_archery  bronze\n",
       "676   Ilario Di Buò  male_archery  silver\n",
       "682    Im Dong-hyun  male_archery    gold\n",
       "760       Jiang Lin  male_archery  bronze\n",
       "920  Lee Chang-hwan  male_archery    gold\n"
      ]
     },
     "metadata": {},
     "output_type": "display_data"
    }
   ],
   "source": [
    "# Melt the dataset\n",
    "data_melted = df.melt(id_vars = \"medalist_name\",                    # Columns to keep intact\n",
    "              value_vars = list(df.columns)[1:],                    # Columns converted into rows\n",
    "              var_name = \"event_gender\",                            # New column name for the melted variable names\n",
    "              value_name = \"medal\").dropna(subset = [\"medal\"])      # New column name for the values and remove rows where \"medal\" is NaN\n",
    "\n",
    "# Preview melted dataset\n",
    "print(data_melted.head())"
   ]
  },
  {
   "cell_type": "markdown",
   "metadata": {},
   "source": [
    "This code restructures the dataset from a wide format to a long format, a key step in the _Tidy Data_ framework. This step is completed by the pd.melt() function. id_vars specifies that the medalist_name column should remain intact and not be melted. value_vars tells Pandas to melt all other columns, which represent the Olympic events. The [1:] command ensures that medalist_name is not melted as part of the columns list because it is its own variable and must have its own column. On the other hand, value_vars converts the column headers into rows. var_name creates a new column named \"event_gender\" to store these melted column names. value_name creates a new column named \"medal\" to hold the values \"gold,\" \"silver,\" or \"bronze.\" Additionaly, .dropna(subset = [\"medal\"]) removes rows where the value in the \"medal\" column is NaN. After melting the data, the .head() function previews the first five rows of the melted dataset, showing that each variable forms its own column and each observation forms a row, addressing two of the three princples of _Tidy Data_."
   ]
  },
  {
   "cell_type": "code",
   "execution_count": null,
   "metadata": {},
   "outputs": [
    {
     "data": {
      "text/plain": [
       "      medalist_name   medal gender    event\n",
       "177    Bair Badënov  bronze   male  archery\n",
       "676   Ilario Di Buò  silver   male  archery\n",
       "682    Im Dong-hyun    gold   male  archery\n",
       "760       Jiang Lin  bronze   male  archery\n",
       "920  Lee Chang-hwan    gold   male  archery\n"
      ]
     },
     "metadata": {},
     "output_type": "display_data"
    }
   ],
   "source": [
    "# Use str.split to create two new columns: \"gender\" and \"event\"\n",
    "data_melted[[\"gender\", \"event\"]] = data_melted[\"event_gender\"].str.split(\"_\", expand = True)\n",
    "\n",
    "# Drop the \"event_gender\" column\n",
    "data_melted = data_melted.drop(columns = [\"event_gender\"])\n",
    "\n",
    "# Preview transformed dataset\n",
    "print(data_melted.head())"
   ]
  },
  {
   "cell_type": "markdown",
   "metadata": {},
   "source": [
    "This step transforms the melted dataset by splitting the \"event_gender\" column into two seperate columns: \"gender\" and \"event\" to better align. The str.split function splits the values in the \"event_gender\" column into two parts, using the \"_\" as the separator and \"expand = True\" ensures that the split creates two new columns. This results in two new columns: \"gender\" with observations \"male\" or \"female\" and \"event\" with observations representing the olympic event. These new columns are assigned by the data_melted[[\"gender\", \"event\"]] function. The data_melted.drop(columns = [\"event_gender\"]) function removes the \"event_gender\" column, since its information is now split into the two new columns and is no longer necessary. The .head() function previews the first five rowns of the updated DataFrame to verify the transformation. Overall, this step further ensures that each variable forms its own column and that each form of observational unit forms its own table. "
   ]
  },
  {
   "cell_type": "code",
   "execution_count": null,
   "metadata": {},
   "outputs": [
    {
     "data": {
      "text/plain": [
       "      medalist_name   medal gender    event\n",
       "177    Bair Badënov  bronze   male  archery\n",
       "676   Ilario Di Buò  silver   male  archery\n",
       "682    Im Dong-hyun    gold   male  archery\n",
       "760       Jiang Lin  bronze   male  archery\n",
       "920  Lee Chang-hwan    gold   male  archery\n"
      ]
     },
     "metadata": {},
     "output_type": "display_data"
    }
   ],
   "source": [
    "# Clean the \"event\" column using str.replace() to remove unwanted words\n",
    "data_melted[\"event\"] = (\n",
    "    data_melted[\"event\"]\n",
    "    .str.replace(\" sport\", \"\", regex = False)      # Remove \"sport\"\n",
    "    .str.replace(\"and\", \"&\", regex = False)        # Replace \"and\" with \"&\"\n",
    "    .str.strip())                                  # Remove unneeded spaces\n",
    "\n",
    "# Preview the cleaned dataset\n",
    "print(data_melted.head())"
   ]
  },
  {
   "cell_type": "markdown",
   "metadata": {},
   "source": [
    "This code cleans the \"event\" column to remove unwanted information that is unnecessary or inconsistent. str.replace(\" sport\", \"\", regex = False) removes the word \"sport\" from any string in the \"event\" column. For example. \"equestrian sport\" becomes \"equestrian.\" str.replace(\"and\", \"&\", regex = False) replaces the word \"and\" with \"&\" in the \"event\" column. For example, \"canoeing and kayaking\" becomes \"canoeing & kayaking.\" Finally, str.strip() cleans spaces to ensure clean formatting of the DataFrame. Overall, the cleaned strings are assigned back to the \"event\" column and the .head() function verifies that the cleaning was successful as the column values are concise and consistent, aligning with the _Tidy Data_ frameowkr that standardized variables improve readability and help to facilitate analysis and visualization."
   ]
  },
  {
   "cell_type": "code",
   "execution_count": null,
   "metadata": {},
   "outputs": [
    {
     "data": {
      "text/plain": [
       "gender\n",
       "male      1032\n",
       "female     843\n",
       "Name: count, dtype: int64\n"
      ]
     },
     "metadata": {},
     "output_type": "display_data"
    }
   ],
   "source": [
    "import matplotlib.pyplot as plt\n",
    "\n",
    "# Count of medals by gender\n",
    "medals_by_gender = data_melted[\"gender\"].value_counts()\n",
    "print(medals_by_gender)\n",
    "\n",
    "# Plot 1: Bar Chart - Medals by Gender\n",
    "medals_by_gender.plot(kind = \"bar\", color = [\"blue\", \"pink\"])\n",
    "plt.title(\"Count of Medals by Gender\")\n",
    "plt.xlabel(\"Gender\")\n",
    "plt.ylabel(\"Count of Medals\")\n",
    "plt.show()"
   ]
  },
  {
   "cell_type": "markdown",
   "metadata": {},
   "source": [
    "First, import the pyplot functions in the matplotlib package and assign them as plt. This step in the code generates a bar chart to visualize the count of medals by gender from the cleaned dataset. The data_melted[\"gender\"].value_counts() function counts the occurences of each unique value in the \"gender\" column. This means that 1032 males won medals and 843 females won medals. By printing these reults, it provides the numerical summary of the data before plotting. The medals_by_gender.plot(kind = \"bar\", color = [\"blue\", \"pink\"]) function specifies that the visualization is going to be a bar chart and assigns blue for one gender and pink for the other on the chart. The title, xlabel, and ylabel functions add titles and labels to the chart, as well as the x and y-axis. Finally, the chart is displayed by the plt.show() function. This visualization benefits from the tidy data structure becuase it make it easy to group and count the data. Thus, analysis is more easily rendered from the visualizations that clearly represent the data. "
   ]
  },
  {
   "cell_type": "code",
   "execution_count": null,
   "metadata": {},
   "outputs": [
    {
     "data": {
      "text/plain": [
       "gender                 female  male\n",
       "event                              \n",
       "archery                   9.0  11.0\n",
       "artistic gymnastics      20.0  29.0\n",
       "association football     54.0  55.0\n",
       "athletics                81.0  85.0\n",
       "badminton                10.0  12.0\n",
       "baseball                  NaN  72.0\n",
       "basketball               36.0  35.0\n",
       "beach volleyball          6.0   6.0\n",
       "bmx                       3.0   3.0\n",
       "boxing                    NaN  44.0\n",
       "canoeing & kayaking      21.0  53.0\n",
       "diving                   13.0  16.0\n",
       "equestrian               20.0  18.0\n",
       "fencing                  26.0  28.0\n",
       "field hockey             48.0  50.0\n",
       "freestyle wrestling      16.0  28.0\n",
       "greco-roman wrestling     NaN  27.0\n",
       "h&ball                   42.0  43.0\n",
       "judo                     28.0  28.0\n",
       "modern pentathlon         2.0   3.0\n",
       "mountain biking           3.0   3.0\n",
       "rhythmic gymnastics      21.0   NaN\n",
       "road bicycle racing       6.0   5.0\n",
       "rowing                   58.0  83.0\n",
       "sailing                  21.0  33.0\n",
       "shooting                 17.0  26.0\n",
       "softball                 45.0   NaN\n",
       "swimming                 63.0  62.0\n",
       "synchronized swimming    29.0   NaN\n",
       "table tennis              9.0   9.0\n",
       "taekwondo                16.0  16.0\n",
       "tennis                    9.0   9.0\n",
       "track cycling             9.0  35.0\n",
       "trampoline gymnastics     3.0   3.0\n",
       "triathlon                 3.0   3.0\n",
       "volleyball               36.0  36.0\n",
       "water polo               39.0  39.0\n",
       "weightlifting            21.0  24.0\n"
      ]
     },
     "metadata": {},
     "output_type": "display_data"
    }
   ],
   "source": [
    "# Count of medals by gender and event\n",
    "medals_by_event_gender = data_melted.groupby([\"event\", \"gender\"])[\"medal\"].count().unstack()\n",
    "print(medals_by_event_gender)\n",
    "\n",
    "# Plot 2: Stacked Bar Chart - Medals by Gender and Event\n",
    "medals_by_event_gender.plot(kind = \"bar\", stacked = True, color = [\"blue\", \"pink\"])\n",
    "plt.title(\"Count of Medals by Gender and Event\")\n",
    "plt.xlabel(\"Event\")\n",
    "plt.ylabel(\"Count of Medals\")\n",
    "plt.legend(title = \"Gender\")\n",
    "plt.show()"
   ]
  },
  {
   "cell_type": "markdown",
   "metadata": {},
   "source": [
    "This code builds upon the previous visualization by calculating the count of medals by event and gender and visualizing it in a stacked bar chart. The data_melted.groupby([\"event\", \"gender\"])[\"medal\"].count() groups the data by both event and gender and counts the number of medals for each group. .unstack() transforms the grouped result so that gender becomes columns, like a pivot table, which spreads rows into columns according to the Pandas Cheat Sheet. To plot the stacked bar chart, we start by inputting the data and telling Python we want a bar chart that is stacked using medals_by_event_gender.plot(kind=\"bar\", stacked=True). Then, we again assign the colors for each gender with color=[\"blue\", \"pink\"] and the labels and title of the chart and x and y-axis with plt.title(), plt.xlabel(), and plt.ylabel(). Additionally, in this visualization, plt.legend(title = \"Gender\") adds a legend to distinguish between genders. Finally, plt.show() displays the visualization. Each bar in the visualization represents an event, with stacked segments that indicate the count of medals won by each gender, which reveals the distribution of medals for both genders across the events. For example, illustrating that 20 medals were won by females in artistic gymanstics and 29 were won by men."
   ]
  },
  {
   "cell_type": "code",
   "execution_count": null,
   "metadata": {},
   "outputs": [
    {
     "data": {
      "text/plain": [
       "gender                 female  male\n",
       "event                              \n",
       "archery                     9    11\n",
       "artistic gymnastics        20    29\n",
       "association football       54    55\n",
       "athletics                  81    85\n",
       "badminton                  10    12\n",
       "baseball                    0    72\n",
       "basketball                 36    35\n",
       "beach volleyball            6     6\n",
       "bmx                         3     3\n",
       "boxing                      0    44\n",
       "canoeing & kayaking        21    53\n",
       "diving                     13    16\n",
       "equestrian                 20    18\n",
       "fencing                    26    28\n",
       "field hockey               48    50\n",
       "freestyle wrestling        16    28\n",
       "greco-roman wrestling       0    27\n",
       "h&ball                     42    43\n",
       "judo                       28    28\n",
       "modern pentathlon           2     3\n",
       "mountain biking             3     3\n",
       "rhythmic gymnastics        21     0\n",
       "road bicycle racing         6     5\n",
       "rowing                     58    83\n",
       "sailing                    21    33\n",
       "shooting                   17    26\n",
       "softball                   45     0\n",
       "swimming                   63    62\n",
       "synchronized swimming      29     0\n",
       "table tennis                9     9\n",
       "taekwondo                  16    16\n",
       "tennis                      9     9\n",
       "track cycling               9    35\n",
       "trampoline gymnastics       3     3\n",
       "triathlon                   3     3\n",
       "volleyball                 36    36\n",
       "water polo                 39    39\n",
       "weightlifting              21    24\n"
      ]
     },
     "metadata": {},
     "output_type": "display_data"
    }
   ],
   "source": [
    "import seaborn as sns\n",
    "\n",
    "# Create pivot table to summarize medal counts by gender and event\n",
    "pivot_table = data_melted.pivot_table(\n",
    "    index = \"event\",        # Column to aggregate\n",
    "    columns = \"gender\",     # Rows: Event categories\n",
    "    values = \"medal\",       # Columns: Gender categories\n",
    "    aggfunc = \"count\",      # Aggregation function: Count medals\n",
    "    fill_value = 0)         # Replace missing values with 0\n",
    "print(pivot_table)\n",
    "\n",
    "# Plot 3: Heatmap - Medal Distributions by Gender and Event\n",
    "plt.figure(figsize = (12, 8))\n",
    "sns.heatmap(pivot_table, annot = True, fmt = \"d\", cmap= \"Blues\")\n",
    "plt.title(\"Medal Counts by Event and Gender\")\n",
    "plt.xlabel(\"Gender\")\n",
    "plt.ylabel(\"Event\")\n",
    "plt.show()"
   ]
  },
  {
   "cell_type": "markdown",
   "metadata": {},
   "source": [
    "First import the Seaborn visualization library and assign it as sns. This snippet creates a heatmap to visualize the medal counts by gender and event based on a pivot table. First, we need to create the pivot table by using data_melted.pivot_table(), which groups and aggregates the data by event in the rowns and gender in the columns. values = \"medal\" specifies to aggregate the \"medal\" column. aggfunc = \"count\" counts the number of medals for each combination of \"event\" and \"gender.\" fill_value = 0 replaces any missing values with 0 to ensure thr grid is complete with events and genders. This results in a table where cell represents the count of medals for a specific gender in an event. We can then visualize this with a heatmap using the code sns.heatmap(pivot_table, annot=True, fmt=\"d\", cmap=\"Blues\"). annot = True puts the numerical value in each cell and fmt = \"d\" formats the values as integers. cmap = \"Blues\" uses a blue color pallete to represent the concentration of medal counts. plt.figure(figsize=(12, 8)) sets the size of the heatmap so it is clear and plt.title, plt.xlabel, plt.ylabel add a title and labels to the x and y axis. Finally, plt.show() displays the heatmap. In the heatmap, rows represent events, columsn represent genders, and cell colors show the concentration of the mdeal counts. Darker shades of blue indicate higher medal counts, while lighter shades represent fewer models. Overall, this visualization highlights patterns in medal distributions across events and genders. "
   ]
  }
 ],
 "metadata": {
  "language_info": {
   "name": "python"
  }
 },
 "nbformat": 4,
 "nbformat_minor": 2
}
